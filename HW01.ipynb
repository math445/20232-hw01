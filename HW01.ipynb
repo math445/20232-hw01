{
 "cells": [
  {
   "cell_type": "markdown",
   "metadata": {},
   "source": [
    "---\n",
    "\n",
    "# Spring 2023 MATH 445 HW01"
   ]
  },
  {
   "cell_type": "markdown",
   "metadata": {},
   "source": [
    "---\n",
    "\n",
    "The following exercises are from the textbook [Linear Algebra and Learning from Data](https://math.mit.edu/~gs/learningfromdata/) by [Gilbert Strang](http://math.mit.edu/~gs/)."
   ]
  },
  {
   "cell_type": "markdown",
   "metadata": {},
   "source": [
    "---\n",
    "\n",
    "## Exercise 1\n",
    "\n",
    "**(Exercises I.1.1 and I.1.5 in textbook)**\n",
    "\n",
    "1. Give an example where a combination of three nonzero vectors in $\\mathbb{R}^4$ is the zero vector. Then write your example in the form $Ax = 0$. What are the shapes of $A$ and $x$ and $0$?\n",
    "\n",
    "2. The linear combinations of $v = (1, 1, 0)$ and $w = (0, 1, 1)$ fill a plane in $\\mathbb{R}^3$.\n",
    "\n",
    "    (a) Find a vector $z$ that is perpendicular to $v$ and $w$. Then $z$ is perpendicular to every vector $c_1 v + c_2 w$ on the plane: $(c_1 v + c_2 w)^T z = c_1 v^T z + c_2 w^T z = 0 + 0$.\n",
    "    \n",
    "    (b) Find a vector $u$ that is not on the plane. Check that $u^T z \\neq 0$."
   ]
  },
  {
   "cell_type": "markdown",
   "metadata": {},
   "source": [
    "---\n",
    "\n",
    "Name: **YOUR NAME**\n",
    "\n",
    "**List all sources of help, such as other people, online resources, or any other resource that helped you complete this assignment. If you did this assignment without any resources, type \"none\" here. Do not leave the acknowledgements blank.**\n",
    "\n",
    "Acknowledgements:  "
   ]
  },
  {
   "cell_type": "code",
   "execution_count": null,
   "metadata": {},
   "outputs": [],
   "source": []
  },
  {
   "cell_type": "markdown",
   "metadata": {},
   "source": [
    "---\n",
    "\n",
    "## Exercise 2\n",
    "\n",
    "**(Exercises I.1.10, I.1.11, and I.1.12 in textbook)**\n",
    "\n",
    "1. Find the matrices $C_1$ and $C_2$ containing independent columns of $A_1$ and $A_2$:\n",
    "\n",
    "    $$\n",
    "    A_1 = \\begin{bmatrix}\n",
    "    1 & 3 & -2 \\\\\n",
    "    3 & 9 & -6 \\\\\n",
    "    2 & 6 & -4 \\\\\n",
    "    \\end{bmatrix}\n",
    "    \\qquad\n",
    "    A_2 = \\begin{bmatrix}\n",
    "    1 & 2 & 3 \\\\\n",
    "    4 & 5 & 6 \\\\\n",
    "    7 & 8 & 9 \\\\\n",
    "    \\end{bmatrix}\n",
    "    $$\n",
    "\n",
    "2. Factor each of those matrices into $A = CR$. The matrix $R$ will contain the numbers that multiply columns of $C$ to recover columns of $A$.\n",
    "\n",
    "   This is one way to look at matrix multiplication: **$C$ times each column of $R$.**\n",
    "\n",
    "3. Produce a basis for the column spaces of $A_1$ and $A_2$. What are the *dimensions* of those column spaces—the number of independent vectors? What are the *ranks* of $A_1$ and $A_2$? How many independent rows in $A_1$ and $A_2$?"
   ]
  },
  {
   "cell_type": "markdown",
   "metadata": {},
   "source": [
    "---\n",
    "\n",
    "Name: **YOUR NAME**\n",
    "\n",
    "**List all sources of help, such as other people, online resources, or any other resource that helped you complete this assignment. If you did this assignment without any resources, type \"none\" here. Do not leave the acknowledgements blank.**\n",
    "\n",
    "Acknowledgements:  "
   ]
  },
  {
   "cell_type": "code",
   "execution_count": null,
   "metadata": {},
   "outputs": [],
   "source": []
  },
  {
   "cell_type": "markdown",
   "metadata": {},
   "source": [
    "---\n",
    "\n",
    "## Exercise 3\n",
    "\n",
    "**(Exercises I.2.7 and I.2.8 in textbook)**\n",
    "\n",
    "1. *Fact*: The columns of $AB$ are combinations of the columns of $A$. Then the column *space* of $AB$ is *contained in* the column space of $A$. Give an example of $A$ and $B$ for which $AB$ has a smaller column space than $A$.\n",
    "\n",
    "2. To compute $C = AB =$ ($m$ by $n$) ($n$ by $p$), what order of the three loops leads to columns times rows (outer products)?\n",
    "\n",
    "   Complete the `column_times_row` function and check that it gives the same output as the `row_times_column` function. Is one function faster than the other when multiplying large matrices?"
   ]
  },
  {
   "cell_type": "markdown",
   "metadata": {},
   "source": [
    "---\n",
    "\n",
    "Name: **YOUR NAME**\n",
    "\n",
    "**List all sources of help, such as other people, online resources, or any other resource that helped you complete this assignment. If you did this assignment without any resources, type \"none\" here. Do not leave the acknowledgements blank.**\n",
    "\n",
    "Acknowledgements:  "
   ]
  },
  {
   "cell_type": "code",
   "execution_count": null,
   "metadata": {},
   "outputs": [],
   "source": [
    "function row_times_column(A, B)\n",
    "    size(A, 2) == size(B, 1) || error(\"Number of columns of A must equal number of rows of B\")\n",
    "    m, n = size(A)\n",
    "    p = size(B, 2)\n",
    "    \n",
    "    C = zeros(m, p)\n",
    "    for i = 1:m\n",
    "        for j = 1:p\n",
    "            for k = 1:n\n",
    "                C[i,j] += A[i,k]*B[k,j]\n",
    "            end\n",
    "        end\n",
    "    end\n",
    "    \n",
    "    return C\n",
    "end"
   ]
  },
  {
   "cell_type": "code",
   "execution_count": null,
   "metadata": {},
   "outputs": [],
   "source": [
    "function column_times_row(A, B)\n",
    "    size(A, 2) == size(B, 1) || error(\"Number of columns of A must equal number of rows of B\")\n",
    "    m, n = size(A)\n",
    "    p = size(B, 2)\n",
    "    \n",
    "    C = zeros(m, p)\n",
    "    for ...\n",
    "        for ...\n",
    "            for ...\n",
    "                C[i,j] += A[i,k]*B[k,j]\n",
    "            end\n",
    "        end\n",
    "    end\n",
    "    \n",
    "    return C\n",
    "end"
   ]
  },
  {
   "cell_type": "code",
   "execution_count": null,
   "metadata": {},
   "outputs": [],
   "source": [
    "m, n, p = 4, 5, 3\n",
    "A = rand(m, n)\n",
    "B = rand(n, p)\n",
    "@time C = A*B"
   ]
  },
  {
   "cell_type": "code",
   "execution_count": null,
   "metadata": {},
   "outputs": [],
   "source": [
    "@time C = row_times_column(A, B)"
   ]
  },
  {
   "cell_type": "code",
   "execution_count": null,
   "metadata": {},
   "outputs": [],
   "source": []
  },
  {
   "cell_type": "markdown",
   "metadata": {},
   "source": [
    "---"
   ]
  }
 ],
 "metadata": {
  "kernelspec": {
   "display_name": "Julia 1.8.5",
   "language": "julia",
   "name": "julia-1.8"
  },
  "language_info": {
   "file_extension": ".jl",
   "mimetype": "application/julia",
   "name": "julia",
   "version": "1.8.5"
  }
 },
 "nbformat": 4,
 "nbformat_minor": 4
}
